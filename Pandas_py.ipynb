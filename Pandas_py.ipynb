{
  "nbformat": 4,
  "nbformat_minor": 0,
  "metadata": {
    "colab": {
      "provenance": [],
      "authorship_tag": "ABX9TyP0UbDHCFDLCunb2+hNu9Q9",
      "include_colab_link": true
    },
    "kernelspec": {
      "name": "python3",
      "display_name": "Python 3"
    },
    "language_info": {
      "name": "python"
    }
  },
  "cells": [
    {
      "cell_type": "markdown",
      "metadata": {
        "id": "view-in-github",
        "colab_type": "text"
      },
      "source": [
        "<a href=\"https://colab.research.google.com/github/Hassan-tariq-08/my-first-python-project/blob/main/Pandas_py.ipynb\" target=\"_parent\"><img src=\"https://colab.research.google.com/assets/colab-badge.svg\" alt=\"Open In Colab\"/></a>"
      ]
    },
    {
      "cell_type": "markdown",
      "source": [
        "**How to read and write data in dataframe**"
      ],
      "metadata": {
        "id": "cFzrDO5UAOxE"
      }
    },
    {
      "cell_type": "code",
      "execution_count": 28,
      "metadata": {
        "colab": {
          "base_uri": "https://localhost:8080/",
          "height": 456
        },
        "id": "Ya5kAb0s52df",
        "outputId": "75d23515-6983-4b46-e666-5b23900319a3"
      },
      "outputs": [
        {
          "output_type": "stream",
          "name": "stdout",
          "text": [
            "CSV text\n"
          ]
        },
        {
          "output_type": "error",
          "ename": "ValueError",
          "evalue": "'lines' keyword only valid when 'orient' is records",
          "traceback": [
            "\u001b[0;31m---------------------------------------------------------------------------\u001b[0m",
            "\u001b[0;31mValueError\u001b[0m                                Traceback (most recent call last)",
            "\u001b[0;32m/tmp/ipython-input-28-2206103424.py\u001b[0m in \u001b[0;36m<cell line: 0>\u001b[0;34m()\u001b[0m\n\u001b[1;32m     18\u001b[0m \u001b[0;31m#  Convert CSV → JSON\u001b[0m\u001b[0;34m\u001b[0m\u001b[0;34m\u001b[0m\u001b[0m\n\u001b[1;32m     19\u001b[0m \u001b[0mdf\u001b[0m\u001b[0;34m=\u001b[0m\u001b[0mpd\u001b[0m\u001b[0;34m.\u001b[0m\u001b[0mread_csv\u001b[0m\u001b[0;34m(\u001b[0m\u001b[0;34m\"country_profile_trimmed.csv\"\u001b[0m\u001b[0;34m)\u001b[0m\u001b[0;34m\u001b[0m\u001b[0;34m\u001b[0m\u001b[0m\n\u001b[0;32m---> 20\u001b[0;31m \u001b[0mdf\u001b[0m\u001b[0;34m.\u001b[0m\u001b[0mto_json\u001b[0m\u001b[0;34m(\u001b[0m\u001b[0;34m\"country_profile_trimmed.json\"\u001b[0m\u001b[0;34m,\u001b[0m\u001b[0mlines\u001b[0m\u001b[0;34m=\u001b[0m\u001b[0;32mTrue\u001b[0m\u001b[0;34m)\u001b[0m\u001b[0;34m\u001b[0m\u001b[0;34m\u001b[0m\u001b[0m\n\u001b[0m\u001b[1;32m     21\u001b[0m \u001b[0mfile_type\u001b[0m\u001b[0;34m=\u001b[0m\u001b[0mmagic\u001b[0m\u001b[0;34m.\u001b[0m\u001b[0mfrom_file\u001b[0m\u001b[0;34m(\u001b[0m\u001b[0;34m\"country_profile_trimmed.json\"\u001b[0m\u001b[0;34m)\u001b[0m\u001b[0;34m\u001b[0m\u001b[0;34m\u001b[0m\u001b[0m\n\u001b[1;32m     22\u001b[0m \u001b[0mprint\u001b[0m\u001b[0;34m(\u001b[0m\u001b[0mfile_type\u001b[0m\u001b[0;34m)\u001b[0m\u001b[0;34m\u001b[0m\u001b[0;34m\u001b[0m\u001b[0m\n",
            "\u001b[0;32m/usr/local/lib/python3.11/dist-packages/pandas/util/_decorators.py\u001b[0m in \u001b[0;36mwrapper\u001b[0;34m(*args, **kwargs)\u001b[0m\n\u001b[1;32m    331\u001b[0m                     \u001b[0mstacklevel\u001b[0m\u001b[0;34m=\u001b[0m\u001b[0mfind_stack_level\u001b[0m\u001b[0;34m(\u001b[0m\u001b[0;34m)\u001b[0m\u001b[0;34m,\u001b[0m\u001b[0;34m\u001b[0m\u001b[0;34m\u001b[0m\u001b[0m\n\u001b[1;32m    332\u001b[0m                 )\n\u001b[0;32m--> 333\u001b[0;31m             \u001b[0;32mreturn\u001b[0m \u001b[0mfunc\u001b[0m\u001b[0;34m(\u001b[0m\u001b[0;34m*\u001b[0m\u001b[0margs\u001b[0m\u001b[0;34m,\u001b[0m \u001b[0;34m**\u001b[0m\u001b[0mkwargs\u001b[0m\u001b[0;34m)\u001b[0m\u001b[0;34m\u001b[0m\u001b[0;34m\u001b[0m\u001b[0m\n\u001b[0m\u001b[1;32m    334\u001b[0m \u001b[0;34m\u001b[0m\u001b[0m\n\u001b[1;32m    335\u001b[0m         \u001b[0;31m# error: \"Callable[[VarArg(Any), KwArg(Any)], Any]\" has no\u001b[0m\u001b[0;34m\u001b[0m\u001b[0;34m\u001b[0m\u001b[0m\n",
            "\u001b[0;32m/usr/local/lib/python3.11/dist-packages/pandas/core/generic.py\u001b[0m in \u001b[0;36mto_json\u001b[0;34m(self, path_or_buf, orient, date_format, double_precision, force_ascii, date_unit, default_handler, lines, compression, index, indent, storage_options, mode)\u001b[0m\n\u001b[1;32m   2700\u001b[0m         \u001b[0mindent\u001b[0m \u001b[0;34m=\u001b[0m \u001b[0mindent\u001b[0m \u001b[0;32mor\u001b[0m \u001b[0;36m0\u001b[0m\u001b[0;34m\u001b[0m\u001b[0;34m\u001b[0m\u001b[0m\n\u001b[1;32m   2701\u001b[0m \u001b[0;34m\u001b[0m\u001b[0m\n\u001b[0;32m-> 2702\u001b[0;31m         return json.to_json(\n\u001b[0m\u001b[1;32m   2703\u001b[0m             \u001b[0mpath_or_buf\u001b[0m\u001b[0;34m=\u001b[0m\u001b[0mpath_or_buf\u001b[0m\u001b[0;34m,\u001b[0m\u001b[0;34m\u001b[0m\u001b[0;34m\u001b[0m\u001b[0m\n\u001b[1;32m   2704\u001b[0m             \u001b[0mobj\u001b[0m\u001b[0;34m=\u001b[0m\u001b[0mself\u001b[0m\u001b[0;34m,\u001b[0m\u001b[0;34m\u001b[0m\u001b[0;34m\u001b[0m\u001b[0m\n",
            "\u001b[0;32m/usr/local/lib/python3.11/dist-packages/pandas/io/json/_json.py\u001b[0m in \u001b[0;36mto_json\u001b[0;34m(path_or_buf, obj, orient, date_format, double_precision, force_ascii, date_unit, default_handler, lines, compression, index, indent, storage_options, mode)\u001b[0m\n\u001b[1;32m    169\u001b[0m \u001b[0;34m\u001b[0m\u001b[0m\n\u001b[1;32m    170\u001b[0m     \u001b[0;32mif\u001b[0m \u001b[0mlines\u001b[0m \u001b[0;32mand\u001b[0m \u001b[0morient\u001b[0m \u001b[0;34m!=\u001b[0m \u001b[0;34m\"records\"\u001b[0m\u001b[0;34m:\u001b[0m\u001b[0;34m\u001b[0m\u001b[0;34m\u001b[0m\u001b[0m\n\u001b[0;32m--> 171\u001b[0;31m         \u001b[0;32mraise\u001b[0m \u001b[0mValueError\u001b[0m\u001b[0;34m(\u001b[0m\u001b[0;34m\"'lines' keyword only valid when 'orient' is records\"\u001b[0m\u001b[0;34m)\u001b[0m\u001b[0;34m\u001b[0m\u001b[0;34m\u001b[0m\u001b[0m\n\u001b[0m\u001b[1;32m    172\u001b[0m \u001b[0;34m\u001b[0m\u001b[0m\n\u001b[1;32m    173\u001b[0m     \u001b[0;32mif\u001b[0m \u001b[0mmode\u001b[0m \u001b[0;32mnot\u001b[0m \u001b[0;32min\u001b[0m \u001b[0;34m[\u001b[0m\u001b[0;34m\"a\"\u001b[0m\u001b[0;34m,\u001b[0m \u001b[0;34m\"w\"\u001b[0m\u001b[0;34m]\u001b[0m\u001b[0;34m:\u001b[0m\u001b[0;34m\u001b[0m\u001b[0;34m\u001b[0m\u001b[0m\n",
            "\u001b[0;31mValueError\u001b[0m: 'lines' keyword only valid when 'orient' is records"
          ]
        }
      ],
      "source": [
        "import pandas as pd\n",
        "# read data from csv into dataframe\n",
        "# Encoding is a process of converting text into aformat that computer can stor and read\n",
        "# encoding use two standards latin1 and \"utf-8\"\n",
        "# with wrong encoding when reading file will give you error\n",
        "# df=pd.read_csv(\"country_profile_trimmed.csv\",encoding=\"latin1\")\n",
        "# print(df)\n",
        "\n",
        "# how to identify the file type\n",
        "# Commas or semicolons → CSV\n",
        "# Curly braces {} → JSON\n",
        "# Tabs or spaces → TXT or TSV\n",
        "\n",
        "import magic\n",
        "file_type=magic.from_file(\"country_profile_trimmed.csv\")\n",
        "print(file_type)\n",
        "#  how to Convert a File from One Format to Another\n",
        "#  Convert CSV → JSON\n",
        "df=pd.read_csv(\"country_profile_trimmed.csv\")\n",
        "df.to_json(\"country_profile_trimmed.json\",orient=\"records\",lines=True)\n",
        "file_type=magic.from_file(\"country_profile_trimmed.json\")\n",
        "print(file_type)\n",
        "# Convert CSV → Excel (.xlsx)\n",
        "df.to_excel(\"country_profile_trimmed.xlsx\",index=False)\n",
        "print(magic.from_file(\"country_profile_trimmed.xlsx\"))\n",
        "\n",
        "#   convert excel to csv\n",
        "df.to_csv(\"converted\")\n",
        "print(magic.from_file(\"converted\"))\n",
        "# convert json to csv\n",
        "df=pd.read_json(\"country_profile_trimmed.json\",lines=True)\n",
        "df.to_csv(\"converted(1).json\")\n",
        "# how to rename the file name with python\n",
        "import os\n",
        "os.rename(\"converted\",\"converted.csv\")\n",
        "os.rename(\"converted(1).json\",\"converted(1).csv\")"
      ]
    },
    {
      "cell_type": "code",
      "source": [
        "import pandas as pd\n",
        "df=pd.read_csv(\"country_profile_trimmed.csv\")\n",
        "df.to_json(\"1\",orient=\"records\",lines=True)\n",
        "print(magic.from_file(\"1\"))\n",
        "data=pd.read_json(\"1\")\n",
        "print(data)"
      ],
      "metadata": {
        "colab": {
          "base_uri": "https://localhost:8080/",
          "height": 438
        },
        "id": "8Kw4SVjI7lcM",
        "outputId": "9421fdad-2d80-44d9-8660-757fcb43e794"
      },
      "execution_count": 37,
      "outputs": [
        {
          "output_type": "error",
          "ename": "ValueError",
          "evalue": "'lines' keyword only valid when 'orient' is records",
          "traceback": [
            "\u001b[0;31m---------------------------------------------------------------------------\u001b[0m",
            "\u001b[0;31mValueError\u001b[0m                                Traceback (most recent call last)",
            "\u001b[0;32m/tmp/ipython-input-37-1265038755.py\u001b[0m in \u001b[0;36m<cell line: 0>\u001b[0;34m()\u001b[0m\n\u001b[1;32m      1\u001b[0m \u001b[0;32mimport\u001b[0m \u001b[0mpandas\u001b[0m \u001b[0;32mas\u001b[0m \u001b[0mpd\u001b[0m\u001b[0;34m\u001b[0m\u001b[0;34m\u001b[0m\u001b[0m\n\u001b[1;32m      2\u001b[0m \u001b[0mdf\u001b[0m\u001b[0;34m=\u001b[0m\u001b[0mpd\u001b[0m\u001b[0;34m.\u001b[0m\u001b[0mread_csv\u001b[0m\u001b[0;34m(\u001b[0m\u001b[0;34m\"country_profile_trimmed.csv\"\u001b[0m\u001b[0;34m)\u001b[0m\u001b[0;34m\u001b[0m\u001b[0;34m\u001b[0m\u001b[0m\n\u001b[0;32m----> 3\u001b[0;31m \u001b[0mdf\u001b[0m\u001b[0;34m.\u001b[0m\u001b[0mto_json\u001b[0m\u001b[0;34m(\u001b[0m\u001b[0;34m\"1\"\u001b[0m\u001b[0;34m,\u001b[0m\u001b[0mlines\u001b[0m\u001b[0;34m=\u001b[0m\u001b[0;32mTrue\u001b[0m\u001b[0;34m)\u001b[0m\u001b[0;34m\u001b[0m\u001b[0;34m\u001b[0m\u001b[0m\n\u001b[0m\u001b[1;32m      4\u001b[0m \u001b[0mprint\u001b[0m\u001b[0;34m(\u001b[0m\u001b[0mmagic\u001b[0m\u001b[0;34m.\u001b[0m\u001b[0mfrom_file\u001b[0m\u001b[0;34m(\u001b[0m\u001b[0;34m\"1\"\u001b[0m\u001b[0;34m)\u001b[0m\u001b[0;34m)\u001b[0m\u001b[0;34m\u001b[0m\u001b[0;34m\u001b[0m\u001b[0m\n\u001b[1;32m      5\u001b[0m \u001b[0mdata\u001b[0m\u001b[0;34m=\u001b[0m\u001b[0mpd\u001b[0m\u001b[0;34m.\u001b[0m\u001b[0mread_json\u001b[0m\u001b[0;34m(\u001b[0m\u001b[0;34m\"1\"\u001b[0m\u001b[0;34m)\u001b[0m\u001b[0;34m\u001b[0m\u001b[0;34m\u001b[0m\u001b[0m\n",
            "\u001b[0;32m/usr/local/lib/python3.11/dist-packages/pandas/util/_decorators.py\u001b[0m in \u001b[0;36mwrapper\u001b[0;34m(*args, **kwargs)\u001b[0m\n\u001b[1;32m    331\u001b[0m                     \u001b[0mstacklevel\u001b[0m\u001b[0;34m=\u001b[0m\u001b[0mfind_stack_level\u001b[0m\u001b[0;34m(\u001b[0m\u001b[0;34m)\u001b[0m\u001b[0;34m,\u001b[0m\u001b[0;34m\u001b[0m\u001b[0;34m\u001b[0m\u001b[0m\n\u001b[1;32m    332\u001b[0m                 )\n\u001b[0;32m--> 333\u001b[0;31m             \u001b[0;32mreturn\u001b[0m \u001b[0mfunc\u001b[0m\u001b[0;34m(\u001b[0m\u001b[0;34m*\u001b[0m\u001b[0margs\u001b[0m\u001b[0;34m,\u001b[0m \u001b[0;34m**\u001b[0m\u001b[0mkwargs\u001b[0m\u001b[0;34m)\u001b[0m\u001b[0;34m\u001b[0m\u001b[0;34m\u001b[0m\u001b[0m\n\u001b[0m\u001b[1;32m    334\u001b[0m \u001b[0;34m\u001b[0m\u001b[0m\n\u001b[1;32m    335\u001b[0m         \u001b[0;31m# error: \"Callable[[VarArg(Any), KwArg(Any)], Any]\" has no\u001b[0m\u001b[0;34m\u001b[0m\u001b[0;34m\u001b[0m\u001b[0m\n",
            "\u001b[0;32m/usr/local/lib/python3.11/dist-packages/pandas/core/generic.py\u001b[0m in \u001b[0;36mto_json\u001b[0;34m(self, path_or_buf, orient, date_format, double_precision, force_ascii, date_unit, default_handler, lines, compression, index, indent, storage_options, mode)\u001b[0m\n\u001b[1;32m   2700\u001b[0m         \u001b[0mindent\u001b[0m \u001b[0;34m=\u001b[0m \u001b[0mindent\u001b[0m \u001b[0;32mor\u001b[0m \u001b[0;36m0\u001b[0m\u001b[0;34m\u001b[0m\u001b[0;34m\u001b[0m\u001b[0m\n\u001b[1;32m   2701\u001b[0m \u001b[0;34m\u001b[0m\u001b[0m\n\u001b[0;32m-> 2702\u001b[0;31m         return json.to_json(\n\u001b[0m\u001b[1;32m   2703\u001b[0m             \u001b[0mpath_or_buf\u001b[0m\u001b[0;34m=\u001b[0m\u001b[0mpath_or_buf\u001b[0m\u001b[0;34m,\u001b[0m\u001b[0;34m\u001b[0m\u001b[0;34m\u001b[0m\u001b[0m\n\u001b[1;32m   2704\u001b[0m             \u001b[0mobj\u001b[0m\u001b[0;34m=\u001b[0m\u001b[0mself\u001b[0m\u001b[0;34m,\u001b[0m\u001b[0;34m\u001b[0m\u001b[0;34m\u001b[0m\u001b[0m\n",
            "\u001b[0;32m/usr/local/lib/python3.11/dist-packages/pandas/io/json/_json.py\u001b[0m in \u001b[0;36mto_json\u001b[0;34m(path_or_buf, obj, orient, date_format, double_precision, force_ascii, date_unit, default_handler, lines, compression, index, indent, storage_options, mode)\u001b[0m\n\u001b[1;32m    169\u001b[0m \u001b[0;34m\u001b[0m\u001b[0m\n\u001b[1;32m    170\u001b[0m     \u001b[0;32mif\u001b[0m \u001b[0mlines\u001b[0m \u001b[0;32mand\u001b[0m \u001b[0morient\u001b[0m \u001b[0;34m!=\u001b[0m \u001b[0;34m\"records\"\u001b[0m\u001b[0;34m:\u001b[0m\u001b[0;34m\u001b[0m\u001b[0;34m\u001b[0m\u001b[0m\n\u001b[0;32m--> 171\u001b[0;31m         \u001b[0;32mraise\u001b[0m \u001b[0mValueError\u001b[0m\u001b[0;34m(\u001b[0m\u001b[0;34m\"'lines' keyword only valid when 'orient' is records\"\u001b[0m\u001b[0;34m)\u001b[0m\u001b[0;34m\u001b[0m\u001b[0;34m\u001b[0m\u001b[0m\n\u001b[0m\u001b[1;32m    172\u001b[0m \u001b[0;34m\u001b[0m\u001b[0m\n\u001b[1;32m    173\u001b[0m     \u001b[0;32mif\u001b[0m \u001b[0mmode\u001b[0m \u001b[0;32mnot\u001b[0m \u001b[0;32min\u001b[0m \u001b[0;34m[\u001b[0m\u001b[0;34m\"a\"\u001b[0m\u001b[0;34m,\u001b[0m \u001b[0;34m\"w\"\u001b[0m\u001b[0;34m]\u001b[0m\u001b[0;34m:\u001b[0m\u001b[0;34m\u001b[0m\u001b[0;34m\u001b[0m\u001b[0m\n",
            "\u001b[0;31mValueError\u001b[0m: 'lines' keyword only valid when 'orient' is records"
          ]
        }
      ]
    },
    {
      "cell_type": "code",
      "source": [
        "import pandas as pd\n",
        "# read data from csv into dataframe\n",
        "\n",
        "df=pd.read_csv(\"country_profile_trimmed.csv\",encoding=\"latin1\")\n",
        "# print(df)\n",
        "\n",
        "# 1) Encoding is a process of converting text into aformat that computer can store and read\n",
        "# encoding use two standards latin1 and \"utf-8\"\n",
        "# with wrong encoding when reading file will give you error\n",
        "# 2) if we have a very large file the we can divide it into small chumks and apply for loop\n",
        "# 3) if we have data in cloud storage like google cloud storage to read the data from cloud storage we can use \"gcsfs\" library\n",
        "df.to_excel(\"country.xlsx\")\n",
        "print(df)\n",
        "df=pd.read_excel(\"country.xlsx\")\n",
        "print(df)\n"
      ],
      "metadata": {
        "colab": {
          "base_uri": "https://localhost:8080/"
        },
        "collapsed": true,
        "id": "x_p4-hcY98Ff",
        "outputId": "8d97308a-1a5d-488c-91c7-2f3959123a87"
      },
      "execution_count": 39,
      "outputs": [
        {
          "output_type": "stream",
          "name": "stdout",
          "text": [
            "                       country          Region Surface area (km2)  \\\n",
            "0                  Afghanistan    SouthernAsia             652864   \n",
            "1                      Albania  SouthernEurope              28748   \n",
            "2                      Algeria  NorthernAfrica            2381741   \n",
            "3               American Samoa       Polynesia                199   \n",
            "4                      Andorra  SouthernEurope                468   \n",
            "..                         ...             ...                ...   \n",
            "224  Wallis and Futuna Islands       Polynesia                142   \n",
            "225             Western Sahara  NorthernAfrica             266000   \n",
            "226                      Yemen     WesternAsia             527968   \n",
            "227                     Zambia   EasternAfrica             752612   \n",
            "228                   Zimbabwe   EasternAfrica             390757   \n",
            "\n",
            "     Population in thousands (2017)  Population density (per km2, 2017)  \\\n",
            "0                             35530                                54.4   \n",
            "1                              2930                               106.9   \n",
            "2                             41318                             44272.0   \n",
            "3                                56                               278.2   \n",
            "4                                77                               163.8   \n",
            "..                              ...                                 ...   \n",
            "224                              12                                84.1   \n",
            "225                             553                             44198.0   \n",
            "226                           28250                                53.5   \n",
            "227                           17094                                23.0   \n",
            "228                           16530                                42.7   \n",
            "\n",
            "     Sex ratio (m per 100 f, 2017)  \\\n",
            "0                            106.3   \n",
            "1                            101.9   \n",
            "2                            102.0   \n",
            "3                            103.6   \n",
            "4                            102.3   \n",
            "..                             ...   \n",
            "224                           93.4   \n",
            "225                          110.1   \n",
            "226                          102.1   \n",
            "227                           98.5   \n",
            "228                           95.0   \n",
            "\n",
            "     GDP: Gross domestic product (million current US$)  \\\n",
            "0                                              20270.0   \n",
            "1                                              11541.0   \n",
            "2                                             164779.0   \n",
            "3                                                -99.0   \n",
            "4                                               2812.0   \n",
            "..                                                 ...   \n",
            "224                                              -99.0   \n",
            "225                                              -99.0   \n",
            "226                                            29688.0   \n",
            "227                                            21255.0   \n",
            "228                                            13893.0   \n",
            "\n",
            "    GDP growth rate (annual %, const. 2005 prices)  \\\n",
            "0                                             -2.4   \n",
            "1                                            44349   \n",
            "2                                            44411   \n",
            "3                                              -99   \n",
            "4                                              0.8   \n",
            "..                                             ...   \n",
            "224                                            -99   \n",
            "225                                            -99   \n",
            "226                                          -28.1   \n",
            "227                                          44441   \n",
            "228                                          44197   \n",
            "\n",
            "     GDP per capita (current US$) Economy: Agriculture (% of GVA)  \\\n",
            "0                           623.2                           44278   \n",
            "1                          3984.2                           44308   \n",
            "2                          4154.1                           44239   \n",
            "3                           -99.0                             -99   \n",
            "4                         39896.4                             0.5   \n",
            "..                            ...                             ...   \n",
            "224                         -99.0                             -99   \n",
            "225                         -99.0                             -99   \n",
            "226                        1106.4                           44391   \n",
            "227                        1311.1                           44235   \n",
            "228                         890.4                            13.0   \n",
            "\n",
            "     Economy: Industry (% of GVA)  \n",
            "0                         44278.0  \n",
            "1                            26.0  \n",
            "2                            37.3  \n",
            "3                           -99.0  \n",
            "4                         44418.0  \n",
            "..                            ...  \n",
            "224                         -99.0  \n",
            "225                         -99.0  \n",
            "226                          36.9  \n",
            "227                          32.3  \n",
            "228                       44346.0  \n",
            "\n",
            "[229 rows x 11 columns]\n",
            "     Unnamed: 0                    country          Region Surface area (km2)  \\\n",
            "0             0                Afghanistan    SouthernAsia             652864   \n",
            "1             1                    Albania  SouthernEurope              28748   \n",
            "2             2                    Algeria  NorthernAfrica            2381741   \n",
            "3             3             American Samoa       Polynesia                199   \n",
            "4             4                    Andorra  SouthernEurope                468   \n",
            "..          ...                        ...             ...                ...   \n",
            "224         224  Wallis and Futuna Islands       Polynesia                142   \n",
            "225         225             Western Sahara  NorthernAfrica             266000   \n",
            "226         226                      Yemen     WesternAsia             527968   \n",
            "227         227                     Zambia   EasternAfrica             752612   \n",
            "228         228                   Zimbabwe   EasternAfrica             390757   \n",
            "\n",
            "     Population in thousands (2017)  Population density (per km2, 2017)  \\\n",
            "0                             35530                                54.4   \n",
            "1                              2930                               106.9   \n",
            "2                             41318                             44272.0   \n",
            "3                                56                               278.2   \n",
            "4                                77                               163.8   \n",
            "..                              ...                                 ...   \n",
            "224                              12                                84.1   \n",
            "225                             553                             44198.0   \n",
            "226                           28250                                53.5   \n",
            "227                           17094                                23.0   \n",
            "228                           16530                                42.7   \n",
            "\n",
            "     Sex ratio (m per 100 f, 2017)  \\\n",
            "0                            106.3   \n",
            "1                            101.9   \n",
            "2                            102.0   \n",
            "3                            103.6   \n",
            "4                            102.3   \n",
            "..                             ...   \n",
            "224                           93.4   \n",
            "225                          110.1   \n",
            "226                          102.1   \n",
            "227                           98.5   \n",
            "228                           95.0   \n",
            "\n",
            "     GDP: Gross domestic product (million current US$)  \\\n",
            "0                                              20270.0   \n",
            "1                                              11541.0   \n",
            "2                                             164779.0   \n",
            "3                                                -99.0   \n",
            "4                                               2812.0   \n",
            "..                                                 ...   \n",
            "224                                              -99.0   \n",
            "225                                              -99.0   \n",
            "226                                            29688.0   \n",
            "227                                            21255.0   \n",
            "228                                            13893.0   \n",
            "\n",
            "    GDP growth rate (annual %, const. 2005 prices)  \\\n",
            "0                                             -2.4   \n",
            "1                                            44349   \n",
            "2                                            44411   \n",
            "3                                              -99   \n",
            "4                                              0.8   \n",
            "..                                             ...   \n",
            "224                                            -99   \n",
            "225                                            -99   \n",
            "226                                          -28.1   \n",
            "227                                          44441   \n",
            "228                                          44197   \n",
            "\n",
            "     GDP per capita (current US$) Economy: Agriculture (% of GVA)  \\\n",
            "0                           623.2                           44278   \n",
            "1                          3984.2                           44308   \n",
            "2                          4154.1                           44239   \n",
            "3                           -99.0                             -99   \n",
            "4                         39896.4                             0.5   \n",
            "..                            ...                             ...   \n",
            "224                         -99.0                             -99   \n",
            "225                         -99.0                             -99   \n",
            "226                        1106.4                           44391   \n",
            "227                        1311.1                           44235   \n",
            "228                         890.4                            13.0   \n",
            "\n",
            "     Economy: Industry (% of GVA)  \n",
            "0                         44278.0  \n",
            "1                            26.0  \n",
            "2                            37.3  \n",
            "3                           -99.0  \n",
            "4                         44418.0  \n",
            "..                            ...  \n",
            "224                         -99.0  \n",
            "225                         -99.0  \n",
            "226                          36.9  \n",
            "227                          32.3  \n",
            "228                       44346.0  \n",
            "\n",
            "[229 rows x 12 columns]\n"
          ]
        }
      ]
    },
    {
      "cell_type": "code",
      "source": [
        "data={\n",
        "    \"name\":[\"hassan\",\"jahanzaib\",\"immad\",\"abbas\"],\n",
        "    \"age\":[10,20,30,40],\n",
        "    \"city\":[\"faisalabad\",\"haranwalw\",\"lahore\",\"multan\"]\n",
        "}\n",
        "df=pd.DataFrame(data)\n",
        "print(df)\n",
        "# how to save the data in csv file\n",
        "df.to_csv(\"output.csv\",index=False)\n",
        "\n",
        "# With index=True, it saves the left column (0, 1)\n",
        "# With index=False, it saves only the data (no row numbers)"
      ],
      "metadata": {
        "colab": {
          "base_uri": "https://localhost:8080/"
        },
        "id": "2YZnJePoBGM0",
        "outputId": "f5ff76dd-78b9-4919-f3bf-0a310c6b34d7"
      },
      "execution_count": 45,
      "outputs": [
        {
          "output_type": "stream",
          "name": "stdout",
          "text": [
            "        name  age        city\n",
            "0     hassan   10  faisalabad\n",
            "1  jahanzaib   20   haranwalw\n",
            "2      immad   30      lahore\n",
            "3      abbas   40      multan\n"
          ]
        }
      ]
    }
  ]
}